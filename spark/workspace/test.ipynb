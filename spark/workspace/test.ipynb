{
 "cells": [
  {
   "cell_type": "code",
   "execution_count": 2,
   "id": "fc5c4f9b-6e9b-43d3-ad6d-c9c43c01e0bd",
   "metadata": {},
   "outputs": [
    {
     "data": {
      "text/plain": [
       "''"
      ]
     },
     "execution_count": 2,
     "metadata": {},
     "output_type": "execute_result"
    }
   ],
   "source": [
    "sc"
   ]
  },
  {
   "cell_type": "code",
   "execution_count": 3,
   "id": "e87b96af-16c3-4c34-9c17-aa11415bd6e7",
   "metadata": {},
   "outputs": [
    {
     "ename": "NameError",
     "evalue": "name 'spark' is not defined",
     "output_type": "error",
     "traceback": [
      "\u001b[0;31m---------------------------------------------------------------------------\u001b[0m",
      "\u001b[0;31mNameError\u001b[0m                                 Traceback (most recent call last)",
      "Input \u001b[0;32mIn [3]\u001b[0m, in \u001b[0;36m<cell line: 1>\u001b[0;34m()\u001b[0m\n\u001b[0;32m----> 1\u001b[0m \u001b[43mspark\u001b[49m\n",
      "\u001b[0;31mNameError\u001b[0m: name 'spark' is not defined"
     ]
    }
   ],
   "source": [
    "spark"
   ]
  },
  {
   "cell_type": "code",
   "execution_count": 1,
   "id": "22fd2bb2-1f6b-4f4f-bed5-e57d86fe05bf",
   "metadata": {},
   "outputs": [],
   "source": [
    "from pyspark import types\n",
    "from pyspark.sql import functions as f\n",
    "from pyspark.sql import Row, DataFrame, Window"
   ]
  },
  {
   "cell_type": "code",
   "execution_count": null,
   "id": "4c0918a5-4a37-49d2-ae0f-85b695da10d7",
   "metadata": {},
   "outputs": [],
   "source": [
    "sql.exc(\"SELECT * FROM job_db30_gg.log_gg_actvt\")"
   ]
  },
  {
   "cell_type": "markdown",
   "id": "798e53f0-51b6-47fa-996c-79e74a8145c7",
   "metadata": {},
   "source": [
    "# RDD Ops"
   ]
  },
  {
   "cell_type": "code",
   "execution_count": 56,
   "id": "f461a355-4e3f-48d8-9f18-e95ff48da23b",
   "metadata": {},
   "outputs": [
    {
     "data": {
      "text/plain": [
       "ParallelCollectionRDD[157] at readRDDFromFile at PythonRDD.scala:274"
      ]
     },
     "execution_count": 56,
     "metadata": {},
     "output_type": "execute_result"
    }
   ],
   "source": [
    "rdd = sc.parallelize([1,2,3], numSlices=10)\n",
    "rdd"
   ]
  },
  {
   "cell_type": "code",
   "execution_count": 57,
   "id": "2210ec6a-f8ca-4c92-b68c-6c158e0ff832",
   "metadata": {},
   "outputs": [
    {
     "data": {
      "text/plain": [
       "PythonRDD[158] at RDD at PythonRDD.scala:53"
      ]
     },
     "execution_count": 57,
     "metadata": {},
     "output_type": "execute_result"
    }
   ],
   "source": [
    "rdd2 = rdd.map(lambda x: x + 1)\n",
    "rdd2"
   ]
  },
  {
   "cell_type": "code",
   "execution_count": 58,
   "id": "32bb7ef5-ab55-4adf-9138-81937c3bdf77",
   "metadata": {},
   "outputs": [
    {
     "data": {
      "text/plain": [
       "[2, 3, 4]"
      ]
     },
     "execution_count": 58,
     "metadata": {},
     "output_type": "execute_result"
    }
   ],
   "source": [
    "rdd2.collect()"
   ]
  },
  {
   "cell_type": "code",
   "execution_count": 60,
   "id": "195d9a1e-893b-452d-9f28-ce5349bcc12c",
   "metadata": {},
   "outputs": [
    {
     "data": {
      "text/plain": [
       "[1, 2, 3]"
      ]
     },
     "execution_count": 60,
     "metadata": {},
     "output_type": "execute_result"
    }
   ],
   "source": [
    "rdd = sc.parallelize([1,2,3], numSlices=10)\n",
    "rdd.collect()"
   ]
  },
  {
   "cell_type": "code",
   "execution_count": 55,
   "id": "131286b4-01a5-4d5a-9bb3-cc63d25eb755",
   "metadata": {},
   "outputs": [
    {
     "data": {
      "text/plain": [
       "[[], [], [], [1], [], [], [2], [], [], [3]]"
      ]
     },
     "execution_count": 55,
     "metadata": {},
     "output_type": "execute_result"
    }
   ],
   "source": [
    "rdd = sc.parallelize([1,2,3], numSlices=10)\n",
    "rdd.glom().collect()"
   ]
  },
  {
   "cell_type": "code",
   "execution_count": 15,
   "id": "b90a1b9d-ebe0-4e7f-99e1-125adcbb240a",
   "metadata": {},
   "outputs": [
    {
     "data": {
      "text/plain": [
       "[[1], [2, 3]]"
      ]
     },
     "execution_count": 15,
     "metadata": {},
     "output_type": "execute_result"
    }
   ],
   "source": [
    "rdd = sc.parallelize([1,2,3], numSlices=2)\n",
    "rdd.glom().collect()"
   ]
  },
  {
   "cell_type": "code",
   "execution_count": 12,
   "id": "ce8cdc9b-5622-44ff-b7a1-b20700cae543",
   "metadata": {},
   "outputs": [
    {
     "data": {
      "text/plain": [
       "[[], [], [], [('a', 1)], [], [], [], [('b', 2)]]"
      ]
     },
     "execution_count": 12,
     "metadata": {},
     "output_type": "execute_result"
    }
   ],
   "source": [
    "sc.parallelize([(\"a\", 1), (\"b\", 2)]).glom().collect()"
   ]
  },
  {
   "cell_type": "code",
   "execution_count": 21,
   "id": "873ab6df-227f-4421-888e-a6852f77322b",
   "metadata": {},
   "outputs": [],
   "source": [
    "import random\n",
    "\n",
    "data = [random.randint(0, 100) for _ in range(500)]\n",
    "listrdd = sc.parallelize(data, 5)\n",
    "pairs = listrdd.map(lambda x: (x, x * x))\n",
    "reduced = pairs.reduceByKey(lambda x, y: x + y)\n",
    "finalrdd = reduced.mapPartitions(lambda x: x)"
   ]
  },
  {
   "cell_type": "code",
   "execution_count": 36,
   "id": "c9a41bab-bff6-4950-927e-8727ee721842",
   "metadata": {
    "scrolled": true,
    "tags": []
   },
   "outputs": [
    {
     "data": {
      "text/plain": [
       "[(0, [0, 0]),\n",
       " (1, [1, 1, 1]),\n",
       " (2, [4, 4, 4, 4]),\n",
       " (3, [9, 9, 9, 9, 9, 9]),\n",
       " (4, [16, 16, 16, 16, 16]),\n",
       " (5, [25, 25, 25, 25]),\n",
       " (6, [36, 36, 36]),\n",
       " (7, [49, 49, 49, 49, 49, 49]),\n",
       " (8, [64]),\n",
       " (9, [81, 81, 81, 81]),\n",
       " (10, [100, 100, 100, 100, 100, 100]),\n",
       " (11, [121, 121, 121]),\n",
       " (12, [144, 144, 144, 144]),\n",
       " (13, [169, 169]),\n",
       " (14, [196, 196, 196, 196, 196, 196, 196, 196, 196]),\n",
       " (15, [225, 225, 225, 225, 225]),\n",
       " (16, [256, 256, 256, 256, 256, 256, 256]),\n",
       " (17, [289, 289, 289]),\n",
       " (18, [324, 324, 324, 324]),\n",
       " (19, [361, 361, 361, 361, 361, 361, 361, 361]),\n",
       " (20, [400, 400, 400, 400]),\n",
       " (22, [484, 484, 484, 484, 484]),\n",
       " (23, [529, 529, 529, 529, 529, 529, 529, 529, 529]),\n",
       " (24, [576, 576, 576, 576, 576, 576, 576]),\n",
       " (25, [625, 625, 625, 625]),\n",
       " (26, [676, 676]),\n",
       " (27, [729, 729, 729]),\n",
       " (28, [784, 784, 784]),\n",
       " (29, [841, 841, 841, 841]),\n",
       " (30, [900, 900, 900, 900, 900, 900]),\n",
       " (31, [961]),\n",
       " (32, [1024, 1024, 1024, 1024]),\n",
       " (33, [1089, 1089, 1089, 1089, 1089, 1089, 1089, 1089, 1089, 1089]),\n",
       " (34, [1156, 1156, 1156, 1156, 1156, 1156, 1156, 1156, 1156]),\n",
       " (35, [1225, 1225, 1225, 1225, 1225]),\n",
       " (36, [1296, 1296, 1296, 1296]),\n",
       " (38, [1444, 1444]),\n",
       " (39,\n",
       "  [1521, 1521, 1521, 1521, 1521, 1521, 1521, 1521, 1521, 1521, 1521, 1521]),\n",
       " (40, [1600, 1600, 1600, 1600, 1600]),\n",
       " (41, [1681]),\n",
       " (42, [1764, 1764, 1764, 1764, 1764, 1764]),\n",
       " (43, [1849]),\n",
       " (44, [1936, 1936, 1936, 1936, 1936, 1936]),\n",
       " (45, [2025, 2025]),\n",
       " (46, [2116, 2116, 2116]),\n",
       " (47, [2209, 2209, 2209, 2209, 2209, 2209, 2209, 2209]),\n",
       " (48, [2304, 2304, 2304, 2304, 2304, 2304, 2304, 2304, 2304]),\n",
       " (49, [2401, 2401, 2401, 2401, 2401, 2401]),\n",
       " (50, [2500, 2500]),\n",
       " (51, [2601, 2601, 2601, 2601]),\n",
       " (52, [2704, 2704, 2704, 2704, 2704, 2704]),\n",
       " (53, [2809, 2809, 2809, 2809, 2809, 2809, 2809]),\n",
       " (54, [2916, 2916, 2916, 2916]),\n",
       " (55, [3025, 3025, 3025, 3025, 3025, 3025, 3025]),\n",
       " (56, [3136, 3136]),\n",
       " (57, [3249, 3249, 3249]),\n",
       " (58, [3364, 3364, 3364, 3364]),\n",
       " (59, [3481, 3481, 3481, 3481, 3481, 3481, 3481, 3481]),\n",
       " (60, [3600, 3600, 3600, 3600, 3600, 3600]),\n",
       " (61, [3721, 3721, 3721, 3721, 3721, 3721, 3721, 3721]),\n",
       " (62, [3844, 3844, 3844, 3844, 3844]),\n",
       " (63, [3969, 3969, 3969]),\n",
       " (64, [4096, 4096, 4096, 4096, 4096, 4096, 4096]),\n",
       " (65, [4225, 4225, 4225, 4225, 4225]),\n",
       " (66, [4356, 4356, 4356, 4356, 4356]),\n",
       " (67, [4489, 4489, 4489, 4489, 4489]),\n",
       " (68, [4624, 4624, 4624]),\n",
       " (69, [4761, 4761]),\n",
       " (70, [4900, 4900, 4900, 4900, 4900]),\n",
       " (71, [5041, 5041, 5041, 5041]),\n",
       " (72, [5184, 5184, 5184, 5184, 5184]),\n",
       " (73, [5329, 5329, 5329, 5329]),\n",
       " (74, [5476, 5476, 5476, 5476, 5476, 5476]),\n",
       " (75, [5625, 5625, 5625, 5625]),\n",
       " (76, [5776, 5776, 5776, 5776, 5776]),\n",
       " (77, [5929, 5929, 5929]),\n",
       " (78, [6084, 6084, 6084, 6084, 6084, 6084, 6084, 6084]),\n",
       " (79, [6241, 6241, 6241, 6241, 6241, 6241, 6241, 6241, 6241]),\n",
       " (80, [6400, 6400, 6400, 6400, 6400, 6400]),\n",
       " (81, [6561, 6561, 6561, 6561, 6561]),\n",
       " (82, [6724, 6724, 6724, 6724]),\n",
       " (83, [6889, 6889, 6889, 6889, 6889, 6889, 6889, 6889, 6889]),\n",
       " (84, [7056, 7056, 7056, 7056, 7056, 7056, 7056, 7056, 7056]),\n",
       " (85, [7225, 7225, 7225, 7225, 7225, 7225, 7225]),\n",
       " (86, [7396, 7396, 7396, 7396, 7396, 7396, 7396]),\n",
       " (87, [7569, 7569, 7569, 7569, 7569]),\n",
       " (88, [7744, 7744, 7744, 7744, 7744]),\n",
       " (89,\n",
       "  [7921, 7921, 7921, 7921, 7921, 7921, 7921, 7921, 7921, 7921, 7921, 7921]),\n",
       " (90, [8100, 8100, 8100, 8100]),\n",
       " (91, [8281, 8281, 8281, 8281, 8281]),\n",
       " (92, [8464, 8464, 8464]),\n",
       " (93, [8649, 8649, 8649, 8649, 8649]),\n",
       " (94, [8836, 8836, 8836, 8836, 8836, 8836, 8836, 8836, 8836]),\n",
       " (95, [9025, 9025, 9025, 9025]),\n",
       " (96, [9216, 9216, 9216, 9216]),\n",
       " (97, [9409, 9409, 9409]),\n",
       " (98, [9604, 9604, 9604, 9604, 9604]),\n",
       " (99, [9801, 9801, 9801, 9801, 9801, 9801]),\n",
       " (100, [10000, 10000, 10000, 10000])]"
      ]
     },
     "execution_count": 36,
     "metadata": {},
     "output_type": "execute_result"
    }
   ],
   "source": [
    "pairs.coalesce(1).foldByKey([], (lambda x, y: x + [y])).sortByKey().collect()"
   ]
  },
  {
   "cell_type": "code",
   "execution_count": 37,
   "id": "7b7c8ebb-c175-4d38-9814-4257c3ba0120",
   "metadata": {
    "scrolled": true,
    "tags": []
   },
   "outputs": [
    {
     "data": {
      "text/plain": [
       "[(0, 0),\n",
       " (1, 3),\n",
       " (2, 16),\n",
       " (3, 54),\n",
       " (4, 80),\n",
       " (5, 100),\n",
       " (6, 108),\n",
       " (7, 294),\n",
       " (8, 64),\n",
       " (9, 324),\n",
       " (10, 600),\n",
       " (11, 363),\n",
       " (12, 576),\n",
       " (13, 338),\n",
       " (14, 1764),\n",
       " (15, 1125),\n",
       " (16, 1792),\n",
       " (17, 867),\n",
       " (18, 1296),\n",
       " (19, 2888),\n",
       " (20, 1600),\n",
       " (22, 2420),\n",
       " (23, 4761),\n",
       " (24, 4032),\n",
       " (25, 2500),\n",
       " (26, 1352),\n",
       " (27, 2187),\n",
       " (28, 2352),\n",
       " (29, 3364),\n",
       " (30, 5400),\n",
       " (31, 961),\n",
       " (32, 4096),\n",
       " (33, 10890),\n",
       " (34, 10404),\n",
       " (35, 6125),\n",
       " (36, 5184),\n",
       " (38, 2888),\n",
       " (39, 18252),\n",
       " (40, 8000),\n",
       " (41, 1681),\n",
       " (42, 10584),\n",
       " (43, 1849),\n",
       " (44, 11616),\n",
       " (45, 4050),\n",
       " (46, 6348),\n",
       " (47, 17672),\n",
       " (48, 20736),\n",
       " (49, 14406),\n",
       " (50, 5000),\n",
       " (51, 10404),\n",
       " (52, 16224),\n",
       " (53, 19663),\n",
       " (54, 11664),\n",
       " (55, 21175),\n",
       " (56, 6272),\n",
       " (57, 9747),\n",
       " (58, 13456),\n",
       " (59, 27848),\n",
       " (60, 21600),\n",
       " (61, 29768),\n",
       " (62, 19220),\n",
       " (63, 11907),\n",
       " (64, 28672),\n",
       " (65, 21125),\n",
       " (66, 21780),\n",
       " (67, 22445),\n",
       " (68, 13872),\n",
       " (69, 9522),\n",
       " (70, 24500),\n",
       " (71, 20164),\n",
       " (72, 25920),\n",
       " (73, 21316),\n",
       " (74, 32856),\n",
       " (75, 22500),\n",
       " (76, 28880),\n",
       " (77, 17787),\n",
       " (78, 48672),\n",
       " (79, 56169),\n",
       " (80, 38400),\n",
       " (81, 32805),\n",
       " (82, 26896),\n",
       " (83, 62001),\n",
       " (84, 63504),\n",
       " (85, 50575),\n",
       " (86, 51772),\n",
       " (87, 37845),\n",
       " (88, 38720),\n",
       " (89, 95052),\n",
       " (90, 32400),\n",
       " (91, 41405),\n",
       " (92, 25392),\n",
       " (93, 43245),\n",
       " (94, 79524),\n",
       " (95, 36100),\n",
       " (96, 36864),\n",
       " (97, 28227),\n",
       " (98, 48020),\n",
       " (99, 58806),\n",
       " (100, 40000)]"
      ]
     },
     "execution_count": 37,
     "metadata": {},
     "output_type": "execute_result"
    }
   ],
   "source": [
    "finalrdd.sortByKey().collect()"
   ]
  },
  {
   "cell_type": "code",
   "execution_count": 40,
   "id": "17fcc3ca-47de-4c04-848b-bb779fa096d7",
   "metadata": {},
   "outputs": [
    {
     "name": "stdout",
     "output_type": "stream",
     "text": [
      "(5) PythonRDD[112] at collect at /tmp/ipykernel_36/3805150854.py:1 []\n",
      " |  MapPartitionsRDD[49] at mapPartitions at PythonRDD.scala:145 []\n",
      " |  ShuffledRDD[48] at partitionBy at NativeMethodAccessorImpl.java:0 []\n",
      " +-(5) PairwiseRDD[47] at reduceByKey at /tmp/ipykernel_36/917555409.py:6 []\n",
      "    |  PythonRDD[46] at reduceByKey at /tmp/ipykernel_36/917555409.py:6 []\n",
      "    |  ParallelCollectionRDD[45] at readRDDFromFile at PythonRDD.scala:274 []\n"
     ]
    }
   ],
   "source": [
    "print(finalrdd.toDebugString().decode())"
   ]
  },
  {
   "cell_type": "markdown",
   "id": "d72d57be-5e7a-4b50-bfb6-fb8dea13e620",
   "metadata": {},
   "source": [
    "# SQL Ops"
   ]
  },
  {
   "cell_type": "code",
   "execution_count": 1,
   "id": "f63afbc0-066a-4374-bacc-de8110216574",
   "metadata": {},
   "outputs": [
    {
     "ename": "NameError",
     "evalue": "name 'spark' is not defined",
     "output_type": "error",
     "traceback": [
      "\u001b[0;31m---------------------------------------------------------------------------\u001b[0m",
      "\u001b[0;31mNameError\u001b[0m                                 Traceback (most recent call last)",
      "Input \u001b[0;32mIn [1]\u001b[0m, in \u001b[0;36m<cell line: 1>\u001b[0;34m()\u001b[0m\n\u001b[0;32m----> 1\u001b[0m df \u001b[38;5;241m=\u001b[39m \u001b[43mspark\u001b[49m\u001b[38;5;241m.\u001b[39mcreateDataFrame([\n\u001b[1;32m      2\u001b[0m     Row(\u001b[38;5;28mid\u001b[39m\u001b[38;5;241m=\u001b[39m\u001b[38;5;124m\"\u001b[39m\u001b[38;5;124muser1\u001b[39m\u001b[38;5;124m\"\u001b[39m, outcome\u001b[38;5;241m=\u001b[39m\u001b[38;5;241m10\u001b[39m),\n\u001b[1;32m      3\u001b[0m     Row(\u001b[38;5;28mid\u001b[39m\u001b[38;5;241m=\u001b[39m\u001b[38;5;124m\"\u001b[39m\u001b[38;5;124muser2\u001b[39m\u001b[38;5;124m\"\u001b[39m, outcome\u001b[38;5;241m=\u001b[39m\u001b[38;5;241m4\u001b[39m),\n\u001b[1;32m      4\u001b[0m     Row(\u001b[38;5;28mid\u001b[39m\u001b[38;5;241m=\u001b[39m\u001b[38;5;124m\"\u001b[39m\u001b[38;5;124muser2\u001b[39m\u001b[38;5;124m\"\u001b[39m, outcome\u001b[38;5;241m=\u001b[39m\u001b[38;5;241m1\u001b[39m),\n\u001b[1;32m      5\u001b[0m     Row(\u001b[38;5;28mid\u001b[39m\u001b[38;5;241m=\u001b[39m\u001b[38;5;124m\"\u001b[39m\u001b[38;5;124muser1\u001b[39m\u001b[38;5;124m\"\u001b[39m, outcome\u001b[38;5;241m=\u001b[39m\u001b[38;5;241m6\u001b[39m),\n\u001b[1;32m      6\u001b[0m     Row(\u001b[38;5;28mid\u001b[39m\u001b[38;5;241m=\u001b[39m\u001b[38;5;124m\"\u001b[39m\u001b[38;5;124muser3\u001b[39m\u001b[38;5;124m\"\u001b[39m, outcome\u001b[38;5;241m=\u001b[39m\u001b[38;5;241m30\u001b[39m),\n\u001b[1;32m      7\u001b[0m     Row(\u001b[38;5;28mid\u001b[39m\u001b[38;5;241m=\u001b[39m\u001b[38;5;124m\"\u001b[39m\u001b[38;5;124muser2\u001b[39m\u001b[38;5;124m\"\u001b[39m, outcome\u001b[38;5;241m=\u001b[39m\u001b[38;5;241m3\u001b[39m),\n\u001b[1;32m      8\u001b[0m     Row(\u001b[38;5;28mid\u001b[39m\u001b[38;5;241m=\u001b[39m\u001b[38;5;124m\"\u001b[39m\u001b[38;5;124muser1\u001b[39m\u001b[38;5;124m\"\u001b[39m, outcome\u001b[38;5;241m=\u001b[39m\u001b[38;5;241m21\u001b[39m),\n\u001b[1;32m      9\u001b[0m ])\n\u001b[1;32m     10\u001b[0m df\u001b[38;5;241m.\u001b[39mprintSchema()\n\u001b[1;32m     11\u001b[0m df\u001b[38;5;241m.\u001b[39mshow()\n",
      "\u001b[0;31mNameError\u001b[0m: name 'spark' is not defined"
     ]
    }
   ],
   "source": [
    "df = spark.createDataFrame([\n",
    "    Row(id=\"user1\", outcome=10),\n",
    "    Row(id=\"user2\", outcome=4),\n",
    "    Row(id=\"user2\", outcome=1),\n",
    "    Row(id=\"user1\", outcome=6),\n",
    "    Row(id=\"user3\", outcome=30),\n",
    "    Row(id=\"user2\", outcome=3),\n",
    "    Row(id=\"user1\", outcome=21),\n",
    "])\n",
    "df.printSchema()\n",
    "df.show()"
   ]
  },
  {
   "cell_type": "code",
   "execution_count": 59,
   "id": "ec3d62c1-2a01-4f62-98b0-575325d4f9a2",
   "metadata": {},
   "outputs": [
    {
     "name": "stdout",
     "output_type": "stream",
     "text": [
      "+-----+---------------------+\n",
      "|   id|collect_list(outcome)|\n",
      "+-----+---------------------+\n",
      "|user1|          [10, 6, 21]|\n",
      "|user3|                 [30]|\n",
      "|user2|            [4, 1, 3]|\n",
      "+-----+---------------------+\n",
      "\n"
     ]
    }
   ],
   "source": [
    "df.groupBy(\"id\").agg(f.collect_list(\"outcome\")).show()"
   ]
  },
  {
   "cell_type": "code",
   "execution_count": 46,
   "id": "b8ee7ee2-4c12-40b2-be4c-b5d489bdd123",
   "metadata": {},
   "outputs": [],
   "source": [
    "df.write.mode(\"overwrite\").option(\"header\", True).csv(\"s3a://default/test.csv\")"
   ]
  },
  {
   "cell_type": "markdown",
   "id": "8c8a4633-25ca-4959-8752-eb8fafae736c",
   "metadata": {},
   "source": [
    "# Read From S3"
   ]
  },
  {
   "cell_type": "code",
   "execution_count": 47,
   "id": "c7e37167-2f24-4883-af09-922fa8e312f0",
   "metadata": {},
   "outputs": [
    {
     "name": "stdout",
     "output_type": "stream",
     "text": [
      "+-----+-------+\n",
      "|   id|outcome|\n",
      "+-----+-------+\n",
      "|user1|     10|\n",
      "|user3|     30|\n",
      "|user1|     21|\n",
      "|user2|      4|\n",
      "|user2|      1|\n",
      "|user1|      6|\n",
      "|user2|      3|\n",
      "+-----+-------+\n",
      "\n"
     ]
    }
   ],
   "source": [
    "spark.read.option(\"header\", True).csv(\"s3a://default/test.csv\").show()"
   ]
  },
  {
   "cell_type": "markdown",
   "id": "d3676ab1-900c-4227-afc2-eaf663461953",
   "metadata": {},
   "source": [
    "# TEST"
   ]
  },
  {
   "cell_type": "code",
   "execution_count": 104,
   "id": "44308122-3639-4243-9148-2a5f9cc39fdb",
   "metadata": {},
   "outputs": [
    {
     "name": "stdout",
     "output_type": "stream",
     "text": [
      "+-----+-------+------------+\n",
      "|   id|outcome|func_outcome|\n",
      "+-----+-------+------------+\n",
      "|user1|     10|         100|\n",
      "|user2|      4|          16|\n",
      "|user2|      1|           1|\n",
      "|user1|      6|          36|\n",
      "|user3|     30|         900|\n",
      "|user2|      3|           9|\n",
      "|user1|     21|         441|\n",
      "+-----+-------+------------+\n",
      "\n"
     ]
    }
   ],
   "source": [
    "# udf\n",
    "\n",
    "def func(value):\n",
    "    return value ** 2\n",
    "\n",
    "udf_func = f.udf(func)\n",
    "\n",
    "df.withColumn(\"func_outcome\", udf_func(f.col(\"outcome\"))).show()"
   ]
  },
  {
   "cell_type": "code",
   "execution_count": 115,
   "id": "0f07b929-2c6f-4d0e-be44-3af4d03a5aa8",
   "metadata": {},
   "outputs": [
    {
     "name": "stdout",
     "output_type": "stream",
     "text": [
      "+-----+-------+\n",
      "|   id|outcome|\n",
      "+-----+-------+\n",
      "|user3|     30|\n",
      "|user2|      4|\n",
      "|user2|      1|\n",
      "|user2|      3|\n",
      "+-----+-------+\n",
      "\n"
     ]
    }
   ],
   "source": [
    "# anti join: exclude\n",
    "\n",
    "df.join(df.where(f.col(\"id\") == \"user1\"), on=\"id\", how=\"anti\").show()"
   ]
  },
  {
   "cell_type": "code",
   "execution_count": 116,
   "id": "e92c4c9c-3b77-4b7e-8c19-605970e2d9e7",
   "metadata": {},
   "outputs": [
    {
     "name": "stdout",
     "output_type": "stream",
     "text": [
      "+-----+-------+\n",
      "|   id|outcome|\n",
      "+-----+-------+\n",
      "|user1|     10|\n",
      "|user1|      6|\n",
      "|user1|     21|\n",
      "+-----+-------+\n",
      "\n"
     ]
    }
   ],
   "source": [
    "# semi join: include\n",
    "\n",
    "df.join(df.where(f.col(\"id\") == \"user1\"), on=\"id\", how=\"semi\").show()"
   ]
  },
  {
   "cell_type": "code",
   "execution_count": 106,
   "id": "1601893f-ed03-4cb3-893a-88bc31c2bfc6",
   "metadata": {},
   "outputs": [
    {
     "name": "stdout",
     "output_type": "stream",
     "text": [
      "+-----+-------+-------+\n",
      "|   id|outcome|outcome|\n",
      "+-----+-------+-------+\n",
      "|user1|     10|     21|\n",
      "|user1|     10|      6|\n",
      "|user1|     10|     10|\n",
      "|user2|      4|      3|\n",
      "|user2|      4|      1|\n",
      "|user2|      4|      4|\n",
      "|user2|      1|      3|\n",
      "|user2|      1|      1|\n",
      "|user2|      1|      4|\n",
      "|user1|      6|     21|\n",
      "|user1|      6|      6|\n",
      "|user1|      6|     10|\n",
      "|user3|     30|     30|\n",
      "|user2|      3|      3|\n",
      "|user2|      3|      1|\n",
      "|user2|      3|      4|\n",
      "|user1|     21|     21|\n",
      "|user1|     21|      6|\n",
      "|user1|     21|     10|\n",
      "+-----+-------+-------+\n",
      "\n"
     ]
    }
   ],
   "source": [
    "# broadcast join\n",
    "\n",
    "df.join(f.broadcast(df), on=\"id\", how=\"inner\").show()"
   ]
  },
  {
   "cell_type": "code",
   "execution_count": 123,
   "id": "9786738e-f9c7-4189-a36b-0fd97b555714",
   "metadata": {},
   "outputs": [
    {
     "name": "stdout",
     "output_type": "stream",
     "text": [
      "+-----+-------+-----------+\n",
      "|   id|outcome| struct_col|\n",
      "+-----+-------+-----------+\n",
      "|user3|     30|{user3, 30}|\n",
      "|user1|     21|{user1, 21}|\n",
      "+-----+-------+-----------+\n",
      "\n"
     ]
    }
   ],
   "source": [
    "# use struct: 1\n",
    "\n",
    "(\n",
    "    df\n",
    "    .select(\"*\", f.struct(\"id\", \"outcome\").alias(\"struct_col\"))\n",
    "    .where(f.col(\"struct_col\").getField(\"outcome\") > 15)\n",
    ").show()"
   ]
  },
  {
   "cell_type": "code",
   "execution_count": 124,
   "id": "10ee6cb4-6801-4532-90c2-eedccaf99608",
   "metadata": {},
   "outputs": [
    {
     "name": "stdout",
     "output_type": "stream",
     "text": [
      "+-----+-------+-----------+\n",
      "|   id|outcome| struct_col|\n",
      "+-----+-------+-----------+\n",
      "|user1|     10|{user1, 10}|\n",
      "|user2|      4| {user2, 4}|\n",
      "|user2|      1| {user2, 1}|\n",
      "|user1|      6| {user1, 6}|\n",
      "|user2|      3| {user2, 3}|\n",
      "+-----+-------+-----------+\n",
      "\n"
     ]
    }
   ],
   "source": [
    "# use struct: 2\n",
    "\n",
    "(\n",
    "    df\n",
    "    .select(\"*\", f.struct(\"id\", \"outcome\").alias(\"struct_col\"))\n",
    "    .where(\"struct_col.outcome < 15\")\n",
    ").show()"
   ]
  },
  {
   "cell_type": "code",
   "execution_count": 133,
   "id": "3052eb34-161d-4788-812b-fd853c53a71f",
   "metadata": {},
   "outputs": [
    {
     "name": "stdout",
     "output_type": "stream",
     "text": [
      "-RECORD 0--------\n",
      " id      | user1 \n",
      " outcome | 10    \n",
      "-RECORD 1--------\n",
      " id      | user2 \n",
      " outcome | 4     \n",
      "-RECORD 2--------\n",
      " id      | user2 \n",
      " outcome | 1     \n",
      "-RECORD 3--------\n",
      " id      | user1 \n",
      " outcome | 6     \n",
      "-RECORD 4--------\n",
      " id      | user3 \n",
      " outcome | 30    \n",
      "-RECORD 5--------\n",
      " id      | user2 \n",
      " outcome | 3     \n",
      "-RECORD 6--------\n",
      " id      | user1 \n",
      " outcome | 21    \n",
      "\n"
     ]
    }
   ],
   "source": [
    "# show\n",
    "\n",
    "df.show(n=20, truncate=True, vertical=True)"
   ]
  },
  {
   "cell_type": "code",
   "execution_count": 154,
   "id": "59b54563-688c-449d-a528-798de9c46496",
   "metadata": {},
   "outputs": [
    {
     "name": "stdout",
     "output_type": "stream",
     "text": [
      "Row(id='user1', outcome=10)\n",
      "Row(id='user2', outcome=4)\n",
      "Row(id='user2', outcome=1)\n",
      "Row(id='user1', outcome=6)\n",
      "Row(id='user3', outcome=30)\n",
      "Row(id='user2', outcome=3)\n",
      "Row(id='user1', outcome=21)\n"
     ]
    }
   ],
   "source": [
    "# iterable\n",
    "\n",
    "for row in df.toLocalIterator():\n",
    "    print(row)"
   ]
  },
  {
   "cell_type": "code",
   "execution_count": 155,
   "id": "070f5ddb-ffb0-491e-a471-2973a8bc67e7",
   "metadata": {},
   "outputs": [
    {
     "name": "stdout",
     "output_type": "stream",
     "text": [
      "336 ms ± 23.2 ms per loop (mean ± std. dev. of 7 runs, 1 loop each)\n"
     ]
    }
   ],
   "source": [
    "%%timeit\n",
    "# prefetch = False\n",
    "\n",
    "for row in df.toLocalIterator(prefetchPartitions=False):\n",
    "    pass"
   ]
  },
  {
   "cell_type": "code",
   "execution_count": 156,
   "id": "7fa6010e-e560-4c36-a56f-3fce0837b405",
   "metadata": {},
   "outputs": [
    {
     "name": "stdout",
     "output_type": "stream",
     "text": [
      "250 ms ± 18.9 ms per loop (mean ± std. dev. of 7 runs, 1 loop each)\n"
     ]
    }
   ],
   "source": [
    "%%timeit\n",
    "# prefetch = True\n",
    "\n",
    "for row in df.toLocalIterator(prefetchPartitions=True):\n",
    "    pass"
   ]
  },
  {
   "cell_type": "code",
   "execution_count": 163,
   "id": "3f41e127-9c1e-45ef-81cc-3f643428ebfe",
   "metadata": {},
   "outputs": [
    {
     "name": "stdout",
     "output_type": "stream",
     "text": [
      "+-----+-------+---------+\n",
      "|   id|outcome|windowing|\n",
      "+-----+-------+---------+\n",
      "|user1|     10|       37|\n",
      "|user1|      6|       37|\n",
      "|user1|     21|       37|\n",
      "|user3|     30|       30|\n",
      "|user2|      4|        8|\n",
      "|user2|      1|        8|\n",
      "|user2|      3|        8|\n",
      "+-----+-------+---------+\n",
      "\n"
     ]
    }
   ],
   "source": [
    "# window_func: default\n",
    "\n",
    "window_spec = Window.partitionBy(\"id\")\n",
    "\n",
    "df.withColumn(\"windowing\", f.sum(\"outcome\").over(window_spec)).show()"
   ]
  },
  {
   "cell_type": "code",
   "execution_count": 195,
   "id": "65860111-417d-4296-bea5-8231e9e19f48",
   "metadata": {},
   "outputs": [
    {
     "name": "stdout",
     "output_type": "stream",
     "text": [
      "+-----+-------+---------+\n",
      "|   id|outcome|windowing|\n",
      "+-----+-------+---------+\n",
      "|user1|      6|        6|\n",
      "|user1|     10|       16|\n",
      "|user1|     21|       37|\n",
      "|user3|     30|       30|\n",
      "|user2|      1|        1|\n",
      "|user2|      3|        4|\n",
      "|user2|      4|        8|\n",
      "+-----+-------+---------+\n",
      "\n"
     ]
    }
   ],
   "source": [
    "# window_func: ordered\n",
    "\n",
    "window_spec = Window.partitionBy(\"id\").orderBy(\"outcome\")\n",
    "\n",
    "df.withColumn(\"windowing\", f.sum(\"outcome\").over(window_spec)).show()"
   ]
  },
  {
   "cell_type": "code",
   "execution_count": 196,
   "id": "6e909b12-ba91-48f6-9b44-441e435c6353",
   "metadata": {},
   "outputs": [
    {
     "name": "stdout",
     "output_type": "stream",
     "text": [
      "9223372036854775807\n",
      "-9223372036854775808\n",
      "0\n",
      "+-----+-------+---------+\n",
      "|   id|outcome|windowing|\n",
      "+-----+-------+---------+\n",
      "|user1|      6|       37|\n",
      "|user1|     10|       31|\n",
      "|user1|     21|       21|\n",
      "|user3|     30|       30|\n",
      "|user2|      1|        8|\n",
      "|user2|      3|        7|\n",
      "|user2|      4|        4|\n",
      "+-----+-------+---------+\n",
      "\n"
     ]
    }
   ],
   "source": [
    "# window_func: rangeBetween (ORDER BY 표현식 기반 위치)\n",
    "\n",
    "print(Window.unboundedFollowing)\n",
    "print(Window.unboundedPreceding)\n",
    "print(Window.currentRow)\n",
    "\n",
    "window_spec = Window.partitionBy(\"id\").orderBy(\"outcome\").rangeBetween(Window.currentRow, Window.unboundedFollowing)\n",
    "\n",
    "df.withColumn(\"windowing\", f.sum(\"outcome\").over(window_spec)).show()"
   ]
  },
  {
   "cell_type": "code",
   "execution_count": 194,
   "id": "18aae0a4-973b-4027-9887-3a860cba0ad5",
   "metadata": {},
   "outputs": [
    {
     "name": "stdout",
     "output_type": "stream",
     "text": [
      "9223372036854775807\n",
      "-9223372036854775808\n",
      "0\n",
      "+-----+-------+---------+\n",
      "|   id|outcome|windowing|\n",
      "+-----+-------+---------+\n",
      "|user1|     10|       37|\n",
      "|user1|      6|       27|\n",
      "|user1|     21|       21|\n",
      "|user3|     30|       30|\n",
      "|user2|      4|        8|\n",
      "|user2|      1|        4|\n",
      "|user2|      3|        3|\n",
      "+-----+-------+---------+\n",
      "\n"
     ]
    }
   ],
   "source": [
    "# window_func: rowsBetween (파티션 내 row의 위치)\n",
    "\n",
    "print(Window.unboundedFollowing)\n",
    "print(Window.unboundedPreceding)\n",
    "print(Window.currentRow)\n",
    "\n",
    "window_spec = Window.partitionBy(\"id\").rowsBetween(Window.currentRow, Window.unboundedFollowing)\n",
    "\n",
    "df.withColumn(\"windowing\", f.sum(\"outcome\").over(window_spec)).show()"
   ]
  },
  {
   "cell_type": "code",
   "execution_count": null,
   "id": "7b378b9c-fe20-4629-902f-597fe9581024",
   "metadata": {},
   "outputs": [],
   "source": [
    "\"\"\"\n",
    "row1\n",
    "row2\n",
    "row3\n",
    "row4\n",
    "\"\"\""
   ]
  }
 ],
 "metadata": {
  "kernelspec": {
   "display_name": "Python 3 (ipykernel)",
   "language": "python",
   "name": "python3"
  },
  "language_info": {
   "codemirror_mode": {
    "name": "ipython",
    "version": 3
   },
   "file_extension": ".py",
   "mimetype": "text/x-python",
   "name": "python",
   "nbconvert_exporter": "python",
   "pygments_lexer": "ipython3",
   "version": "3.8.10"
  }
 },
 "nbformat": 4,
 "nbformat_minor": 5
}
